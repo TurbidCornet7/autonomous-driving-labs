{
 "cells": [
  {
   "cell_type": "markdown",
   "source": [
    "# Localization"
   ],
   "metadata": {
    "collapsed": false
   },
   "id": "d2b71c9452bd7064"
  },
  {
   "cell_type": "markdown",
   "source": [],
   "metadata": {
    "collapsed": false
   },
   "id": "461b4dfd0eaf96"
  },
  {
   "cell_type": "code",
   "outputs": [],
   "source": [],
   "metadata": {
    "collapsed": false,
    "ExecuteTime": {
     "end_time": "2024-02-22T14:40:58.924721384Z",
     "start_time": "2024-02-22T14:40:58.913058797Z"
    }
   },
   "id": "5aeefbba7acd664c",
   "execution_count": 0
  },
  {
   "cell_type": "code",
   "outputs": [],
   "source": [],
   "metadata": {
    "collapsed": false
   },
   "id": "bfcbc4a793e8fe87"
  }
 ],
 "metadata": {
  "kernelspec": {
   "display_name": "Python 3",
   "language": "python",
   "name": "python3"
  },
  "language_info": {
   "codemirror_mode": {
    "name": "ipython",
    "version": 2
   },
   "file_extension": ".py",
   "mimetype": "text/x-python",
   "name": "python",
   "nbconvert_exporter": "python",
   "pygments_lexer": "ipython2",
   "version": "2.7.6"
  }
 },
 "nbformat": 4,
 "nbformat_minor": 5
}
