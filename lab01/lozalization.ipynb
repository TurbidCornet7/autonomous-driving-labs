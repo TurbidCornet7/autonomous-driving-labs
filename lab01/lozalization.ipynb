{
 "cells": [
  {
   "cell_type": "markdown",
   "source": [
    "# Localization"
   ],
   "metadata": {
    "collapsed": false
   },
   "id": "d2b71c9452bd7064"
  },
  {
   "cell_type": "markdown",
   "source": [
    "- p-hit = 0.6\n",
    "- p-miss = 0.2"
   ],
   "metadata": {
    "collapsed": false
   },
   "id": "461b4dfd0eaf96"
  },
  {
   "cell_type": "code",
   "outputs": [],
   "source": [
    "p_hit = 0.6\n",
    "p_miss = 0.2"
   ],
   "metadata": {
    "collapsed": false,
    "ExecuteTime": {
     "end_time": "2024-03-02T18:45:39.936962839Z",
     "start_time": "2024-03-02T18:45:39.876087857Z"
    }
   },
   "id": "5aeefbba7acd664c",
   "execution_count": 43
  },
  {
   "cell_type": "markdown",
   "source": [
    "- probability of moving to the next cell = 0.8\n",
    "- probability of staying in the same cell = 0.1\n",
    "- probability of overshooting to the next cell = 0.1"
   ],
   "metadata": {
    "collapsed": false
   },
   "id": "a93ca7f1e42c911d"
  },
  {
   "cell_type": "code",
   "outputs": [],
   "source": [
    "p_next_cell = 0.8\n",
    "p_stay = 0.1\n",
    "p_overshoot = 0.1"
   ],
   "metadata": {
    "collapsed": false,
    "ExecuteTime": {
     "end_time": "2024-03-02T18:45:39.942042230Z",
     "start_time": "2024-03-02T18:45:39.928618611Z"
    }
   },
   "id": "bfcbc4a793e8fe87",
   "execution_count": 44
  },
  {
   "cell_type": "markdown",
   "source": [
    "Task 0: Define an array named world that represents the vehicle environment.\n",
    "world = [‘tree’, ‘house’, ‘house’, ‘tree’, ‘tree’]"
   ],
   "metadata": {
    "collapsed": false
   },
   "id": "8b0dd00a79583cb4"
  },
  {
   "cell_type": "code",
   "outputs": [],
   "source": [
    "world = ['tree', 'house', 'house', 'tree', 'tree']"
   ],
   "metadata": {
    "collapsed": false,
    "ExecuteTime": {
     "end_time": "2024-03-02T18:45:39.954460443Z",
     "start_time": "2024-03-02T18:45:39.942494Z"
    }
   },
   "id": "5981e0628193ee50",
   "execution_count": 45
  },
  {
   "cell_type": "markdown",
   "source": [
    "Task 1: Define a vector p (of size 1-by-n, where n is the number of discrete cell locations\n",
    "in the environment) representing current belief for vehicle location (hint: in this case it is\n",
    "initialised by a uniform distribution over the five cell locations). What is the value of p?"
   ],
   "metadata": {
    "collapsed": false
   },
   "id": "ca06dfa75e569151"
  },
  {
   "cell_type": "code",
   "outputs": [
    {
     "data": {
      "text/plain": "[0.2, 0.2, 0.2, 0.2, 0.2]"
     },
     "execution_count": 46,
     "metadata": {},
     "output_type": "execute_result"
    }
   ],
   "source": [
    "p_vec = [1 / len(world) for x in world]\n",
    "p_vec"
   ],
   "metadata": {
    "collapsed": false,
    "ExecuteTime": {
     "end_time": "2024-03-02T18:45:39.993287131Z",
     "start_time": "2024-03-02T18:45:39.954825913Z"
    }
   },
   "id": "37eedb261fb16a8f",
   "execution_count": 46
  },
  {
   "cell_type": "markdown",
   "source": [
    "Task 2: Now the vehicle senses its environment, and observes a house. Update the belief\n",
    "vector, by writing a function sense to which you pass on a measurement (’house’ or ’tree’), the current belief p, and it returns a new vector q which represents the updated belief after\n",
    "the measurement (taking into account world, p-hit and p-miss). What is the value of updated\n",
    "q?"
   ],
   "metadata": {
    "collapsed": false
   },
   "id": "779f013e82e73e1e"
  },
  {
   "cell_type": "code",
   "outputs": [
    {
     "data": {
      "text/plain": "[0.04000000000000001, 0.12, 0.12, 0.04000000000000001, 0.04000000000000001]"
     },
     "execution_count": 47,
     "metadata": {},
     "output_type": "execute_result"
    }
   ],
   "source": [
    "def sense(measurement, current_belief):\n",
    "    q = [0] * len(world)\n",
    "    for i in range(len(world)):\n",
    "        if world[i] == measurement:\n",
    "            q[i] = current_belief[i] * p_hit\n",
    "        else:\n",
    "            q[i] = current_belief[i] * p_miss\n",
    "    return q\n",
    "\n",
    "\n",
    "q = sense('house', p_vec)\n",
    "q"
   ],
   "metadata": {
    "collapsed": false,
    "ExecuteTime": {
     "end_time": "2024-03-02T18:45:40.021996547Z",
     "start_time": "2024-03-02T18:45:39.955209293Z"
    }
   },
   "id": "279a13ca52048a5f",
   "execution_count": 47
  },
  {
   "cell_type": "markdown",
   "source": [
    "Task 3: Does q represent a valid probability distribution? If not, why? Update it such\n",
    "that it represents a valid probability distribution and assign it to p. What is the value of p\n",
    "now?"
   ],
   "metadata": {
    "collapsed": false
   },
   "id": "ed629f26208409ec"
  },
  {
   "cell_type": "markdown",
   "source": [
    "No it does not, since the sum of the probabilities is not 1"
   ],
   "metadata": {
    "collapsed": false
   },
   "id": "387a6f91c679d5d6"
  },
  {
   "cell_type": "code",
   "outputs": [
    {
     "data": {
      "text/plain": "[0.1111111111111111,\n 0.3333333333333332,\n 0.3333333333333332,\n 0.1111111111111111,\n 0.1111111111111111]"
     },
     "execution_count": 48,
     "metadata": {},
     "output_type": "execute_result"
    }
   ],
   "source": [
    "def normalize(q):\n",
    "    p = [x / sum(q) for x in q]\n",
    "    return p\n",
    "\n",
    "\n",
    "p = normalize(q)\n",
    "p"
   ],
   "metadata": {
    "collapsed": false,
    "ExecuteTime": {
     "end_time": "2024-03-02T18:45:40.023411790Z",
     "start_time": "2024-03-02T18:45:39.993021309Z"
    }
   },
   "id": "d2311cf2b11fd059",
   "execution_count": 48
  },
  {
   "cell_type": "markdown",
   "source": [],
   "metadata": {
    "collapsed": false
   },
   "id": "6a7db99c6a1128c9"
  },
  {
   "cell_type": "markdown",
   "source": [
    "Task 4: Update your code such that it can handle a measurement vector with an arbitrary\n",
    "number of measurements. Now let’s begin with a vector p representing a uniform distribution,\n",
    "and you get two measurements, first a ‘house’ and then a ‘tree’. What will be the new p after\n",
    "incorporating these two measurements (hint: the program will essentially loop for the total\n",
    "number of available measurements (two in this case), following the steps described in tasks 2\n",
    "and 3 above). Whats the updated p?"
   ],
   "metadata": {
    "collapsed": false
   },
   "id": "f6246121552b1296"
  },
  {
   "cell_type": "code",
   "outputs": [
    {
     "data": {
      "text/plain": "[0.12, 0.04000000000000001, 0.04000000000000001, 0.12, 0.12]"
     },
     "execution_count": 49,
     "metadata": {},
     "output_type": "execute_result"
    }
   ],
   "source": [
    "def updated_sense(measurements, current_belief):\n",
    "    new_p = []\n",
    "    for measurement in measurements:\n",
    "        new_p = sense(measurement, current_belief)\n",
    "\n",
    "    return new_p\n",
    "\n",
    "\n",
    "p = updated_sense(['house', 'tree'], p_vec)\n",
    "p"
   ],
   "metadata": {
    "collapsed": false,
    "ExecuteTime": {
     "end_time": "2024-03-02T18:45:40.035691883Z",
     "start_time": "2024-03-02T18:45:40.022374032Z"
    }
   },
   "id": "6dd6ff949229ed12",
   "execution_count": 49
  },
  {
   "cell_type": "markdown",
   "source": [
    "Task 5: Your next task is to write a function move that takes a current belief, and returns\n",
    "a new belief for one-cell, clockwise, motion command execution in the vehicle environment.\n",
    "Begin with an initial belief of [0, 0, 1, 0, 0]. As described in the introduction, please keep\n",
    "in mind that the vehicle under- and overshoots with probabilities of 0.1 and 0.1, respectively\n",
    "and performs an exact motion to the next cell with probability 0.8. You can declare three\n",
    "variables to represent these probabilities in your program. What is the updated p after one\n",
    "step of motion?"
   ],
   "metadata": {
    "collapsed": false
   },
   "id": "44aff4ec81aa0336"
  },
  {
   "cell_type": "code",
   "outputs": [
    {
     "data": {
      "text/plain": "[0.0, 0.0, 0.1, 0.8, 0.1]"
     },
     "execution_count": 50,
     "metadata": {},
     "output_type": "execute_result"
    }
   ],
   "source": [
    "def move(current_belief):\n",
    "    p = [0] * len(world)\n",
    "    for i in range(len(current_belief)):\n",
    "        p[i] += current_belief[i] * p_stay\n",
    "        p[(i + 1) % len(current_belief)] += current_belief[i] * p_next_cell\n",
    "        p[(i + 2) % len(current_belief)] += current_belief[i] * p_overshoot\n",
    "    return normalize(p)\n",
    "\n",
    "\n",
    "p = move([0, 0, 1, 0, 0])\n",
    "p"
   ],
   "metadata": {
    "collapsed": false,
    "ExecuteTime": {
     "end_time": "2024-03-02T18:45:40.040825917Z",
     "start_time": "2024-03-02T18:45:40.027246458Z"
    }
   },
   "id": "36ebf2c7d9c005b7",
   "execution_count": 50
  },
  {
   "cell_type": "markdown",
   "source": [
    "Task 6: Starting from initial distribution of [0, 0, 1, 0, 0], what is the p after two one-step\n",
    "motions? And after 100 one-step motions?"
   ],
   "metadata": {
    "collapsed": false
   },
   "id": "fec56ea991c7b68d"
  },
  {
   "cell_type": "code",
   "outputs": [
    {
     "name": "stdout",
     "output_type": "stream",
     "text": [
      "[0.16, 0.01, 0.01, 0.16, 0.66]\n",
      "[0.1999998875814723, 0.20000004294005663, 0.2000001389569422, 0.20000004294005663, 0.1999998875814723]\n"
     ]
    }
   ],
   "source": [
    "p = [0, 0, 1, 0, 0]\n",
    "for i in range(2):\n",
    "    p = move(p)\n",
    "print(p)\n",
    "p_2 = [0, 0, 1, 0, 0]\n",
    "for i in range(100):\n",
    "    p_2 = move(p_2)\n",
    "print(p_2)"
   ],
   "metadata": {
    "collapsed": false,
    "ExecuteTime": {
     "end_time": "2024-03-02T18:45:40.045826469Z",
     "start_time": "2024-03-02T18:45:40.038347259Z"
    }
   },
   "id": "6210200bfc469852",
   "execution_count": 51
  },
  {
   "cell_type": "markdown",
   "source": [],
   "metadata": {
    "collapsed": false
   },
   "id": "b87a18058302bd3b"
  },
  {
   "cell_type": "markdown",
   "source": [
    "Task 7: If you start from a uniform-distribution initial belief, what is the updated belief\n",
    "after one step of motion?"
   ],
   "metadata": {
    "collapsed": false
   },
   "id": "1a7682d8360db488"
  },
  {
   "cell_type": "code",
   "outputs": [
    {
     "data": {
      "text/plain": "[0.19999999999999996,\n 0.19999999999999998,\n 0.19999999999999998,\n 0.19999999999999998,\n 0.19999999999999998]"
     },
     "execution_count": 52,
     "metadata": {},
     "output_type": "execute_result"
    }
   ],
   "source": [
    "p = move(p_vec)\n",
    "p"
   ],
   "metadata": {
    "collapsed": false,
    "ExecuteTime": {
     "end_time": "2024-03-02T18:45:40.113099396Z",
     "start_time": "2024-03-02T18:45:40.040990416Z"
    }
   },
   "id": "5742fb351a51782c",
   "execution_count": 52
  },
  {
   "cell_type": "markdown",
   "source": [
    "Task 8: Start with a uniform prior distribution. The vehicle senses a house, moves one step,\n",
    "senses a tree, and moves one step again. What will be the posterior distribution (updated\n",
    "2\n",
    "vector p)? Does it make sense in relation to the vehicle environment?"
   ],
   "metadata": {
    "collapsed": false
   },
   "id": "c231a48d0191926b"
  },
  {
   "cell_type": "code",
   "outputs": [
    {
     "data": {
      "text/plain": "[0.2115789473684211,\n 0.15157894736842106,\n 0.08105263157894739,\n 0.16842105263157892,\n 0.38736842105263153]"
     },
     "execution_count": 53,
     "metadata": {},
     "output_type": "execute_result"
    }
   ],
   "source": [
    "p = sense('house', p_vec)\n",
    "p = move(p)\n",
    "p = sense('tree', p)\n",
    "p = move(p)\n",
    "p"
   ],
   "metadata": {
    "collapsed": false,
    "ExecuteTime": {
     "end_time": "2024-03-02T18:45:40.113742223Z",
     "start_time": "2024-03-02T18:45:40.048205845Z"
    }
   },
   "id": "3d6956d228506686",
   "execution_count": 53
  },
  {
   "cell_type": "markdown",
   "source": [
    "Task 9: Again start with a uniform prior distribution. The vehicle now senses a tree,\n",
    "moves one step, senses a tree again, moves one step, and senses a tree yet again, and moves\n",
    "again one step. What is the posterior distribution now? Does it make sense?"
   ],
   "metadata": {
    "collapsed": false
   },
   "id": "ffb80e3797e110c"
  },
  {
   "cell_type": "code",
   "outputs": [
    {
     "data": {
      "text/plain": "[0.2332175925925926,\n 0.40771604938271605,\n 0.18086419753086416,\n 0.07561728395061727,\n 0.1025848765432099]"
     },
     "execution_count": 54,
     "metadata": {},
     "output_type": "execute_result"
    }
   ],
   "source": [
    "p = sense('tree', p_vec)\n",
    "p = move(p)\n",
    "p = sense('tree', p)\n",
    "p = move(p)\n",
    "p = sense('tree', p)\n",
    "p = move(p)\n",
    "p"
   ],
   "metadata": {
    "collapsed": false,
    "ExecuteTime": {
     "end_time": "2024-03-02T18:45:40.115911505Z",
     "start_time": "2024-03-02T18:45:40.088652615Z"
    }
   },
   "id": "e739133870b589c4",
   "execution_count": 54
  },
  {
   "cell_type": "code",
   "outputs": [],
   "source": [
    "#import numpy\n",
    "import numpy as np"
   ],
   "metadata": {
    "collapsed": false,
    "ExecuteTime": {
     "end_time": "2024-03-02T18:45:40.169919449Z",
     "start_time": "2024-03-02T18:45:40.115478112Z"
    }
   },
   "id": "27d05829d6732caa",
   "execution_count": 55
  },
  {
   "cell_type": "code",
   "outputs": [
    {
     "name": "stdout",
     "output_type": "stream",
     "text": [
      "Updated X:\n",
      " [[0.999001]\n",
      " [0.      ]]\n",
      "Updated P:\n",
      " [[1000.999001 1000.      ]\n",
      " [1000.       1000.      ]]\n",
      "Updated X:\n",
      " [[2.99800299]\n",
      " [0.999002  ]]\n",
      "Updated P:\n",
      " [[4.99002494 2.99301795]\n",
      " [2.99301795 1.99501297]]\n",
      "Updated X:\n",
      " [[3.99966644]\n",
      " [0.99999983]]\n",
      "Updated P:\n",
      " [[2.33189042 0.99916761]\n",
      " [0.99916761 0.49950058]]\n"
     ]
    }
   ],
   "source": [
    "X = np.array([[0], [0]]) #state vector\n",
    "P = np.array([[1000, 0], [0, 1000]]) # covariance matrix\n",
    "U = np.array([[0], [0]]) # motion vector\n",
    "R = np.array([[1]]) # measurement noise\n",
    "I = np.identity(2) #identitiy matrix\n",
    "\n",
    "F = np.array([[1, 1], [0, 1]]) #state transition\n",
    "\n",
    "H = np.array([[1, 0]]) #measurement matrix\n",
    "\n",
    "measurements = np.array([[1], [2], [3]])\n",
    "\n",
    "for measurement in measurements:\n",
    "    Y = measurement - H.dot(X)  #error\n",
    "    S = H.dot(P).dot(H.T) + R\n",
    "    K = P.dot(H.T).dot(np.linalg.inv(S))\n",
    "    X = X + K.dot(Y)\n",
    "    P = (I - K.dot(H)).dot(P)\n",
    "    \n",
    "    # Prediction\n",
    "    X = F.dot(X) + U\n",
    "    P = F.dot(P).dot(F.T)\n",
    "    \n",
    "    print(\"Updated X:\\n\",X)\n",
    "    print(\"Updated P:\\n\",P)\n",
    "    \n"
   ],
   "metadata": {
    "collapsed": false,
    "ExecuteTime": {
     "end_time": "2024-03-02T18:45:40.221043317Z",
     "start_time": "2024-03-02T18:45:40.172867143Z"
    }
   },
   "id": "e54178b3125f9f90",
   "execution_count": 56
  }
 ],
 "metadata": {
  "kernelspec": {
   "display_name": "Python 3",
   "language": "python",
   "name": "python3"
  },
  "language_info": {
   "codemirror_mode": {
    "name": "ipython",
    "version": 2
   },
   "file_extension": ".py",
   "mimetype": "text/x-python",
   "name": "python",
   "nbconvert_exporter": "python",
   "pygments_lexer": "ipython2",
   "version": "2.7.6"
  }
 },
 "nbformat": 4,
 "nbformat_minor": 5
}
